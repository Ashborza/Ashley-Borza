{
  "nbformat": 4,
  "nbformat_minor": 0,
  "metadata": {
    "colab": {
      "provenance": [],
      "authorship_tag": "ABX9TyNWDRrCZOvJ0qQVsdJrbeZf",
      "include_colab_link": true
    },
    "kernelspec": {
      "name": "python3",
      "display_name": "Python 3"
    },
    "language_info": {
      "name": "python"
    }
  },
  "cells": [
    {
      "cell_type": "markdown",
      "metadata": {
        "id": "view-in-github",
        "colab_type": "text"
      },
      "source": [
        "<a href=\"https://colab.research.google.com/github/Ashborza/Ashley-Borza/blob/main/In_Class_Assignments.ipynb\" target=\"_parent\"><img src=\"https://colab.research.google.com/assets/colab-badge.svg\" alt=\"Open In Colab\"/></a>"
      ]
    },
    {
      "cell_type": "code",
      "source": [
        "# In-Class While Loop Practice (9/24)\n",
        "numbers = []\n",
        "num = float(input(\"Give a number: \"))\n",
        "\n",
        "while num != 0:\n",
        "  numbers.append(num)\n",
        "  num = float(input(\"Give a number: \"))\n",
        "\n",
        "  numbers.sort(reverse=True)\n",
        "  print(numbers)"
      ],
      "metadata": {
        "id": "EF9ACBCFyjuA",
        "colab": {
          "base_uri": "https://localhost:8080/"
        },
        "outputId": "6f69b822-984b-40cf-f001-4b61eb2e09f7"
      },
      "execution_count": 1,
      "outputs": [
        {
          "output_type": "stream",
          "name": "stdout",
          "text": [
            "Give a number: 5\n",
            "Give a number: 8\n",
            "[5.0]\n",
            "Give a number: 2\n",
            "[8.0, 5.0]\n",
            "Give a number: 6\n",
            "[8.0, 5.0, 2.0]\n",
            "Give a number: 0\n",
            "[8.0, 6.0, 5.0, 2.0]\n"
          ]
        }
      ]
    },
    {
      "cell_type": "code",
      "source": [
        "# In-Class Loop Practice (9/22)\n",
        "for ad in range(0,201,25):\n",
        "  revenue = (20 + 2 * ad ** 0.5) * 10\n",
        "  costs = 200 + ad\n",
        "  profit = revenue - costs\n",
        "  print(ad, round(profit, 1))"
      ],
      "metadata": {
        "colab": {
          "base_uri": "https://localhost:8080/"
        },
        "id": "X44A_XByt2o7",
        "outputId": "85e10351-cdab-406f-e52c-6673f71f3c65"
      },
      "execution_count": null,
      "outputs": [
        {
          "output_type": "stream",
          "name": "stdout",
          "text": [
            "0 0.0\n",
            "25 75.0\n",
            "50 91.4\n",
            "75 98.2\n",
            "100 100.0\n",
            "125 98.6\n",
            "150 94.9\n",
            "175 89.6\n",
            "200 82.8\n"
          ]
        }
      ]
    },
    {
      "cell_type": "code",
      "source": [
        "# In-Class Loop Practice (9/17)\n",
        "for hour in range(1,9):\n",
        "  fee = 5 + 2.5 * hour\n",
        "\n",
        "  if fee < 10:\n",
        "    fee = 10.0\n",
        "  elif fee > 20:\n",
        "    fee = 20.0\n",
        "\n",
        "  print(hour, fee)"
      ],
      "metadata": {
        "colab": {
          "base_uri": "https://localhost:8080/"
        },
        "id": "bM1pHwoqBE7y",
        "outputId": "891f9fdd-9685-4d39-cedc-aa8c74d13c4a"
      },
      "execution_count": null,
      "outputs": [
        {
          "output_type": "stream",
          "name": "stdout",
          "text": [
            "1 10.0\n",
            "2 10.0\n",
            "3 12.5\n",
            "4 15.0\n",
            "5 17.5\n",
            "6 20.0\n",
            "7 20.0\n",
            "8 20.0\n"
          ]
        }
      ]
    },
    {
      "cell_type": "code",
      "source": [
        "#Conditional Statement Practice In-Class (9/15)\n",
        "# Inputs:\n",
        "n1 = float(input(\"Enter number 1: \"))\n",
        "n2 = float(input(\"Enter number 2: \"))\n",
        "operator = input('Enter operator (+, -, *, ?, ??, **, %): ')\n",
        "\n",
        "# Outputs:\n",
        "if operator == \"+\":\n",
        "  res = n1 + n2\n",
        "elif operator == \"-\":\n",
        "  res = n1 - n2\n",
        "elif operator == \"*\":\n",
        "  res = n1 * n2\n",
        "elif operator == \"/\":\n",
        "  res = n1 / n2\n",
        "elif operator == \"//\":\n",
        "  res = n1 // n2\n",
        "elif operator == \"**\":\n",
        "  res = n1 ** n2\n",
        "elif operator == \"%\":\n",
        "  res = n1 % n2\n",
        "else:\n",
        "  res = None\n",
        "  print(\"Invalid Operator\")\n",
        "\n",
        "print(f\"result = {res}\")\n",
        "\n",
        "# Note: invalid print if else does not contain res as well, python will try to print the res at the bottom after print invalid becasue it does not realize."
      ],
      "metadata": {
        "colab": {
          "base_uri": "https://localhost:8080/"
        },
        "id": "4ECViHBTpw2U",
        "outputId": "c64c81a7-1c34-4cbc-e265-f4c6b55bc64f"
      },
      "execution_count": null,
      "outputs": [
        {
          "output_type": "stream",
          "name": "stdout",
          "text": [
            "Enter number 1: 2\n",
            "Enter number 2: 3\n",
            "Enter operator (+, -, *, ?, ??, **, %): -\n",
            "result = -1.0\n"
          ]
        }
      ]
    },
    {
      "cell_type": "code",
      "source": [
        "# In-Cass Prossess Practice (9/8)\n",
        "# Inputs: sales ($) and cost of goods pct (%)\n",
        "sales = input(\"Enter Sales ($): \")\n",
        "sales = float(sales)\n",
        "\n",
        "rate = input(\"Enter Tax Rate(%): \")\n",
        "rate = float(rate)\n",
        "\n",
        "cogs_pct = input(\"Enter Cost of Goods (%): \")\n",
        "cogs_pct = float(cogs_pct)\n",
        "\n",
        "# Processes: calculate cost of goods sold and gross profit\n",
        "cogs = sales * cogs_pct / 100\n",
        "grossprofit = sales - cogs\n",
        "calculatetaxes = grossprofit * rate / 100\n",
        "netincome = grossprofit - calculatetaxes\n",
        "\n",
        "# Outputs: display cost of goods sold and gross profit\n",
        "print(f\"Cost of Goods Sold: ${cogs}\")\n",
        "print(f\"Gross Profit: ${grossprofit}\")\n",
        "print(f\"Taxes: ${calculatetaxes}\")\n",
        "print(f\"Net Income: ${netincome}\")\n",
        "\n"
      ],
      "metadata": {
        "colab": {
          "base_uri": "https://localhost:8080/"
        },
        "id": "japNld76CDAe",
        "outputId": "0aa8f6cf-e0e7-4027-f3c6-6f1f32ce00f3"
      },
      "execution_count": null,
      "outputs": [
        {
          "output_type": "stream",
          "name": "stdout",
          "text": [
            "Enter Sales ($): 12000\n",
            "Enter Tax Rate(%): 30\n",
            "Enter Cost of Goods (%): 40\n",
            "Cost of Goods Sold: $4800.0\n",
            "Gross Profit: $7200.0\n",
            "Taxes: $2160.0\n",
            "Net Income: $5040.0\n"
          ]
        }
      ]
    },
    {
      "cell_type": "code",
      "source": [
        "# In-Class Input Practice (9/3)\n",
        "# Inputs: annual demand (units/year) and reorder cost ($/order) and holding cost ($/unit/year)\n",
        "demand = input(\"Enter Annual Demand (units/year): \")\n",
        "demand = float(demand)\n",
        "\n",
        "reorder = input(\"Enter Reorder Cost ($): \")\n",
        "reorder = float(reorder)\n",
        "\n",
        "holding = input(\"Enter Holding Cost ($): \")\n",
        "holding = float(holding)\n",
        "\n",
        "# Processes: calculate the EOQ\n",
        "EOQ = (2 * demand * reorder / holding) ** 0.5\n",
        "\n",
        "# Outputs: display cost of order\n",
        "print(f\"EOQ: {EOQ} units\")"
      ],
      "metadata": {
        "colab": {
          "base_uri": "https://localhost:8080/"
        },
        "id": "rEVFDgtSmqpp",
        "outputId": "8fd31ac2-44c9-4145-e626-1051bb8b8d32"
      },
      "execution_count": null,
      "outputs": [
        {
          "output_type": "stream",
          "name": "stdout",
          "text": [
            "Enter Annual Demand (units/year): 10\n",
            "Enter Reorder Cost ($): 10\n",
            "Enter Holding Cost ($): 10\n",
            "EOQ: 4.47213595499958 units\n"
          ]
        }
      ]
    }
  ]
}