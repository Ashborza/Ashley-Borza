{
  "nbformat": 4,
  "nbformat_minor": 0,
  "metadata": {
    "colab": {
      "provenance": [],
      "authorship_tag": "ABX9TyNP+4R+4H5UNbGsbQzNu8do",
      "include_colab_link": true
    },
    "kernelspec": {
      "name": "python3",
      "display_name": "Python 3"
    },
    "language_info": {
      "name": "python"
    }
  },
  "cells": [
    {
      "cell_type": "markdown",
      "metadata": {
        "id": "view-in-github",
        "colab_type": "text"
      },
      "source": [
        "<a href=\"https://colab.research.google.com/github/Ashborza/Ashley-Borza/blob/main/In_Class_Assignments.ipynb\" target=\"_parent\"><img src=\"https://colab.research.google.com/assets/colab-badge.svg\" alt=\"Open In Colab\"/></a>"
      ]
    },
    {
      "cell_type": "code",
      "source": [
        "# Inputs: sales ($) and cost of goods pct (%)\n",
        "sales = input(\"Enter Sales ($): \")\n",
        "sales = float(sales)\n",
        "\n",
        "rate = input(\"Enter Tax Rate(%): \")\n",
        "rate = float(rate)\n",
        "\n",
        "cogs_pct = input(\"Enter Cost of Goods (%): \")\n",
        "cogs_pct = float(cogs_pct)\n",
        "\n",
        "# Processes: calculate cost of goods sold and gross profit\n",
        "cogs = sales * cogs_pct / 100\n",
        "grossprofit = sales - cogs\n",
        "calculatetaxes = grossprofit * rate / 100\n",
        "netincome = grossprofit - calculatetaxes\n",
        "\n",
        "# Outputs: display cost of goods sold and gross profit\n",
        "print(f\"Cost of Goods Sold: ${cogs}\")\n",
        "print(f\"Gross Profit: ${grossprofit}\")\n",
        "print(f\"Taxes: ${calculatetaxes}\")\n",
        "print(f\"Net Income: ${netincome}\")\n",
        "\n"
      ],
      "metadata": {
        "colab": {
          "base_uri": "https://localhost:8080/"
        },
        "id": "japNld76CDAe",
        "outputId": "0aa8f6cf-e0e7-4027-f3c6-6f1f32ce00f3"
      },
      "execution_count": null,
      "outputs": [
        {
          "output_type": "stream",
          "name": "stdout",
          "text": [
            "Enter Sales ($): 12000\n",
            "Enter Tax Rate(%): 30\n",
            "Enter Cost of Goods (%): 40\n",
            "Cost of Goods Sold: $4800.0\n",
            "Gross Profit: $7200.0\n",
            "Taxes: $2160.0\n",
            "Net Income: $5040.0\n"
          ]
        }
      ]
    },
    {
      "cell_type": "code",
      "source": [
        "# Inputs: annual demand (units/year) and reorder cost ($/order) and holding cost ($/unit/year)\n",
        "demand = input(\"Enter Annual Demand (units/year): \")\n",
        "demand = float(demand)\n",
        "\n",
        "reorder = input(\"Enter Reorder Cost ($): \")\n",
        "reorder = float(reorder)\n",
        "\n",
        "holding = input(\"Enter Holding Cost ($): \")\n",
        "holding = float(holding)\n",
        "\n",
        "# Processes: calculate the EOQ\n",
        "EOQ = (2 * demand * reorder / holding) ** 0.5\n",
        "\n",
        "# Outputs: display cost of order\n",
        "print(f\"EOQ: {EOQ} units\")"
      ],
      "metadata": {
        "colab": {
          "base_uri": "https://localhost:8080/"
        },
        "id": "rEVFDgtSmqpp",
        "outputId": "a7aa565c-9275-4dfd-a349-901e1e987d90"
      },
      "execution_count": 7,
      "outputs": [
        {
          "output_type": "stream",
          "name": "stdout",
          "text": [
            "Enter Annual Demand (units/year): 1000\n",
            "Enter Reorder Cost ($): 50\n",
            "Enter Holding Cost ($): 10\n",
            "EOQ: 100.0 units\n"
          ]
        }
      ]
    }
  ]
}